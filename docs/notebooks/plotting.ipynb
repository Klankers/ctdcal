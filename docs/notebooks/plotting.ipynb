{
 "cells": [
  {
   "cell_type": "markdown",
   "id": "527cedf6",
   "metadata": {},
   "source": [
    "## _ctdcal_ plotting"
   ]
  },
  {
   "cell_type": "markdown",
   "id": "engaged-indicator",
   "metadata": {
    "cell_marker": "\"\"\""
   },
   "source": [
    "### First, set up the environment"
   ]
  },
  {
   "cell_type": "code",
   "execution_count": 22,
   "id": "editorial-commander",
   "metadata": {},
   "outputs": [],
   "source": [
    "import matplotlib\n",
    "import matplotlib.pyplot as plt\n",
    "import pandas as pd\n",
    "\n",
    "matplotlib.use(\"Agg\")\n",
    "plt.style.use(\"dark_background\")"
   ]
  },
  {
   "cell_type": "markdown",
   "id": "joined-arrival",
   "metadata": {
    "cell_marker": "\"\"\""
   },
   "source": [
    "### Next, load in some example data from CCHDO's website"
   ]
  },
  {
   "cell_type": "code",
   "execution_count": 26,
   "id": "vocational-beads",
   "metadata": {},
   "outputs": [],
   "source": [
    "from ctdcal import io\n",
    "\n",
    "url = \"https://cchdo.ucsd.edu/data/19436/325020210316_hy1.csv\"\n",
    "data = io.load_exchange_btl(url)"
   ]
  },
  {
   "cell_type": "markdown",
   "id": "de0978b3",
   "metadata": {},
   "source": [
    "### Plot things!"
   ]
  },
  {
   "cell_type": "code",
   "execution_count": 28,
   "id": "50dc0fba",
   "metadata": {},
   "outputs": [],
   "source": [
    "from ctdcal import get_ctdcal_config, ctd_plots\n",
    "\n",
    "# load user configuration file\n",
    "cfg = get_ctdcal_config()\n",
    "\n",
    "# plot salinity residual as a function of depth\n",
    "ctd_plots.residual_vs_pressure(\n",
    "    data[cfg.column[\"sal\"]], data[cfg.column[\"refS\"]], data[cfg.column[\"p\"]], grid=True\n",
    ")\n",
    "plt.gcf().set_dpi(120)\n",
    "\n",
    "# plot salinity residual as a function of station\n",
    "ctd_plots.residual_vs_station(\n",
    "    data[cfg.column[\"sal\"]], data[cfg.column[\"refS\"]], data[cfg.column[\"p\"]], data[\"STNNBR\"], grid=True\n",
    ")\n",
    "plt.gcf().set_dpi(120)"
   ]
  }
 ],
 "metadata": {
  "jupytext": {
   "cell_markers": "\"\"\""
  },
  "kernelspec": {
   "display_name": "Python 3",
   "language": "python",
   "name": "python3"
  },
  "language_info": {
   "codemirror_mode": {
    "name": "ipython",
    "version": 3
   },
   "file_extension": ".py",
   "mimetype": "text/x-python",
   "name": "python",
   "nbconvert_exporter": "python",
   "pygments_lexer": "ipython3",
   "version": "3.8.5"
  }
 },
 "nbformat": 4,
 "nbformat_minor": 5
}
